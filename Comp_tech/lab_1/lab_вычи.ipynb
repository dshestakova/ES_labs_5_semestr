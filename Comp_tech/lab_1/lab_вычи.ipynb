{
 "cells": [
  {
   "cell_type": "markdown",
   "id": "cf09f106",
   "metadata": {},
   "source": [
    "### Машинное эпсилон — такое число, что $1 + \\frac{\\epsilon}{2} = 1$ и $1 + \\epsilon != 1$"
   ]
  },
  {
   "cell_type": "code",
   "execution_count": 52,
   "id": "ed81ba8b",
   "metadata": {},
   "outputs": [],
   "source": [
    "import numpy as np"
   ]
  },
  {
   "cell_type": "code",
   "execution_count": 128,
   "id": "c84f28f8",
   "metadata": {},
   "outputs": [],
   "source": [
    "power = 0\n",
    "e = np.float32(1.0)\n",
    "while np.float32(1)+np.float32(e) != np.float32(1):\n",
    "    machine_epsilon_last = e\n",
    "    e = np.float32(e) / np.float32(2)\n",
    "    power += 1"
   ]
  },
  {
   "cell_type": "code",
   "execution_count": 129,
   "id": "4012756a",
   "metadata": {},
   "outputs": [
    {
     "data": {
      "text/plain": [
       "24"
      ]
     },
     "execution_count": 129,
     "metadata": {},
     "output_type": "execute_result"
    }
   ],
   "source": [
    "power"
   ]
  },
  {
   "cell_type": "code",
   "execution_count": 123,
   "id": "64baf12a",
   "metadata": {
    "scrolled": true
   },
   "outputs": [
    {
     "data": {
      "text/plain": [
       "2.384185791015625e-07"
      ]
     },
     "execution_count": 123,
     "metadata": {},
     "output_type": "execute_result"
    }
   ],
   "source": [
    "# e = 2*e\n",
    "e*1000000000000000000000000\n",
    "e"
   ]
  },
  {
   "cell_type": "markdown",
   "id": "8a3aad27",
   "metadata": {},
   "source": [
    "Разрядов в мантиссе: 23"
   ]
  },
  {
   "cell_type": "code",
   "execution_count": 132,
   "id": "142fecc5",
   "metadata": {},
   "outputs": [],
   "source": [
    "power = 0\n",
    "e_64 = np.float64(1.0)\n",
    "while np.float64(1)+np.float64(e_64) != np.float64(1):\n",
    "    machine_epsilon_last = e_64\n",
    "    e_64 = np.float64(e_64) / np.float64(2)\n",
    "    power += 1"
   ]
  },
  {
   "cell_type": "code",
   "execution_count": 133,
   "id": "1e6e0758",
   "metadata": {},
   "outputs": [
    {
     "data": {
      "text/plain": [
       "53"
      ]
     },
     "execution_count": 133,
     "metadata": {},
     "output_type": "execute_result"
    }
   ],
   "source": [
    "power"
   ]
  },
  {
   "cell_type": "code",
   "execution_count": 121,
   "id": "034e8aca",
   "metadata": {},
   "outputs": [
    {
     "data": {
      "text/plain": [
       "2.220446049250313e-16"
      ]
     },
     "execution_count": 121,
     "metadata": {},
     "output_type": "execute_result"
    }
   ],
   "source": [
    "# e_64 = e_64 * 2\n",
    "e_64*2"
   ]
  },
  {
   "cell_type": "markdown",
   "id": "0cd1c1ff",
   "metadata": {},
   "source": [
    "Разрядов в мантиссе: 52"
   ]
  },
  {
   "cell_type": "markdown",
   "id": "b061b48f",
   "metadata": {},
   "source": [
    "### Степени"
   ]
  },
  {
   "cell_type": "code",
   "execution_count": 78,
   "id": "6e8809ac",
   "metadata": {},
   "outputs": [
    {
     "data": {
      "text/plain": [
       "150"
      ]
     },
     "execution_count": 78,
     "metadata": {},
     "output_type": "execute_result"
    }
   ],
   "source": [
    "nb = np.float32(1)\n",
    "power = 0\n",
    "while nb != np.float32(0):\n",
    "    nb /= np.float32(2)\n",
    "    power += 1\n",
    "    \n",
    "power"
   ]
  },
  {
   "cell_type": "markdown",
   "id": "3febdf9e",
   "metadata": {},
   "source": [
    "Максимальная степень: \n",
    "в 32 — 150\n",
    "в 64 — 1075"
   ]
  },
  {
   "cell_type": "code",
   "execution_count": 77,
   "id": "6e9e3543",
   "metadata": {},
   "outputs": [
    {
     "name": "stderr",
     "output_type": "stream",
     "text": [
      "/var/folders/n3/03s93mbs6rxb05p228bp0jyr0000gn/T/ipykernel_39973/4102677583.py:4: RuntimeWarning: overflow encountered in float_scalars\n",
      "  nb *= np.float32(2)\n"
     ]
    },
    {
     "data": {
      "text/plain": [
       "128"
      ]
     },
     "execution_count": 77,
     "metadata": {},
     "output_type": "execute_result"
    }
   ],
   "source": [
    "nb = np.float32(1)\n",
    "power = 0\n",
    "while nb != np.float32('inf'):\n",
    "    nb *= np.float32(2)\n",
    "    power += 1\n",
    "    \n",
    "power"
   ]
  },
  {
   "cell_type": "markdown",
   "id": "18b7d9b7",
   "metadata": {},
   "source": [
    "в 32 — 128\n",
    "в 64 — 1024"
   ]
  },
  {
   "cell_type": "markdown",
   "id": "e2c12837",
   "metadata": {},
   "source": [
    "### Сравнение чисел"
   ]
  },
  {
   "cell_type": "code",
   "execution_count": 20,
   "id": "6790373e",
   "metadata": {},
   "outputs": [
    {
     "data": {
      "text/plain": [
       "[1, 1.0, 1.0000000000000002, 1.0000000000000004]"
      ]
     },
     "execution_count": 20,
     "metadata": {},
     "output_type": "execute_result"
    }
   ],
   "source": [
    "list_ = [1, 1+e/2, 1 + e, 1 + e + e/2]\n",
    "list_"
   ]
  },
  {
   "cell_type": "code",
   "execution_count": 145,
   "id": "39d577ef",
   "metadata": {},
   "outputs": [],
   "source": [
    "def float_to_binary(num):\n",
    "    exponent=0\n",
    "    shifted_num=num\n",
    "    while shifted_num != int(shifted_num):        \n",
    "        shifted_num*=2\n",
    "        exponent+=1\n",
    "    if exponent==0:\n",
    "        return '{0:0b}'.format(int(shifted_num))\n",
    "    binary='{0:0{1}b}'.format(int(shifted_num),exponent+1)\n",
    "    integer_part=binary[:-exponent]\n",
    "    fractional_part=binary[-exponent:].rstrip('0')\n",
    "    return '{0}.{1}'.format(integer_part,fractional_part)\n",
    "\n",
    "def floathex_to_binary(floathex):\n",
    "    num = float.fromhex(floathex)\n",
    "    return float_to_binary(num)"
   ]
  },
  {
   "cell_type": "code",
   "execution_count": 146,
   "id": "dc3a5565",
   "metadata": {},
   "outputs": [],
   "source": [
    "list_3 = ((1 + e)).hex()\n",
    "list_4 = ((1 + e + e/2)).hex()"
   ]
  },
  {
   "cell_type": "code",
   "execution_count": 164,
   "id": "4e35c1b1",
   "metadata": {},
   "outputs": [
    {
     "name": "stdout",
     "output_type": "stream",
     "text": [
      "0x1.0000000000000p+0\n",
      "0x1.0000000000000p-24\n",
      "0x1.0000010000000p+0\n",
      "\n"
     ]
    },
    {
     "ename": "TypeError",
     "evalue": "bad argument type for built-in operation",
     "output_type": "error",
     "traceback": [
      "\u001b[0;31m---------------------------------------------------------------------------\u001b[0m",
      "\u001b[0;31mTypeError\u001b[0m                                 Traceback (most recent call last)",
      "\u001b[0;32m/var/folders/n3/03s93mbs6rxb05p228bp0jyr0000gn/T/ipykernel_39973/2232749725.py\u001b[0m in \u001b[0;36m<module>\u001b[0;34m\u001b[0m\n\u001b[1;32m      5\u001b[0m \u001b[0mprint\u001b[0m\u001b[0;34m(\u001b[0m\u001b[0;34m(\u001b[0m\u001b[0;34m(\u001b[0m\u001b[0;36m1\u001b[0m \u001b[0;34m+\u001b[0m \u001b[0me\u001b[0m\u001b[0;34m)\u001b[0m\u001b[0;34m)\u001b[0m\u001b[0;34m.\u001b[0m\u001b[0mhex\u001b[0m\u001b[0;34m(\u001b[0m\u001b[0;34m)\u001b[0m\u001b[0;34m)\u001b[0m\u001b[0;34m\u001b[0m\u001b[0;34m\u001b[0m\u001b[0m\n\u001b[1;32m      6\u001b[0m \u001b[0mprint\u001b[0m\u001b[0;34m(\u001b[0m\u001b[0;34m)\u001b[0m\u001b[0;34m\u001b[0m\u001b[0;34m\u001b[0m\u001b[0m\n\u001b[0;32m----> 7\u001b[0;31m \u001b[0mprint\u001b[0m\u001b[0;34m(\u001b[0m\u001b[0mfloathex_to_binary\u001b[0m\u001b[0;34m(\u001b[0m\u001b[0;36m1\u001b[0m\u001b[0;34m)\u001b[0m\u001b[0;34m)\u001b[0m\u001b[0;34m\u001b[0m\u001b[0;34m\u001b[0m\u001b[0m\n\u001b[0m\u001b[1;32m      8\u001b[0m \u001b[0mprint\u001b[0m\u001b[0;34m(\u001b[0m\u001b[0mfloathex_to_binary\u001b[0m\u001b[0;34m(\u001b[0m\u001b[0me\u001b[0m\u001b[0;34m)\u001b[0m\u001b[0;34m)\u001b[0m\u001b[0;34m\u001b[0m\u001b[0;34m\u001b[0m\u001b[0m\n\u001b[1;32m      9\u001b[0m \u001b[0mprint\u001b[0m\u001b[0;34m(\u001b[0m\u001b[0mfloathex_to_binary\u001b[0m\u001b[0;34m(\u001b[0m\u001b[0;36m1\u001b[0m \u001b[0;34m+\u001b[0m \u001b[0me\u001b[0m\u001b[0;34m)\u001b[0m\u001b[0;34m)\u001b[0m\u001b[0;34m\u001b[0m\u001b[0;34m\u001b[0m\u001b[0m\n",
      "\u001b[0;32m/var/folders/n3/03s93mbs6rxb05p228bp0jyr0000gn/T/ipykernel_39973/3829411318.py\u001b[0m in \u001b[0;36mfloathex_to_binary\u001b[0;34m(floathex)\u001b[0m\n\u001b[1;32m     13\u001b[0m \u001b[0;34m\u001b[0m\u001b[0m\n\u001b[1;32m     14\u001b[0m \u001b[0;32mdef\u001b[0m \u001b[0mfloathex_to_binary\u001b[0m\u001b[0;34m(\u001b[0m\u001b[0mfloathex\u001b[0m\u001b[0;34m)\u001b[0m\u001b[0;34m:\u001b[0m\u001b[0;34m\u001b[0m\u001b[0;34m\u001b[0m\u001b[0m\n\u001b[0;32m---> 15\u001b[0;31m     \u001b[0mnum\u001b[0m \u001b[0;34m=\u001b[0m \u001b[0mfloat\u001b[0m\u001b[0;34m.\u001b[0m\u001b[0mfromhex\u001b[0m\u001b[0;34m(\u001b[0m\u001b[0mfloathex\u001b[0m\u001b[0;34m)\u001b[0m\u001b[0;34m\u001b[0m\u001b[0;34m\u001b[0m\u001b[0m\n\u001b[0m\u001b[1;32m     16\u001b[0m     \u001b[0;32mreturn\u001b[0m \u001b[0mfloat_to_binary\u001b[0m\u001b[0;34m(\u001b[0m\u001b[0mnum\u001b[0m\u001b[0;34m)\u001b[0m\u001b[0;34m\u001b[0m\u001b[0;34m\u001b[0m\u001b[0m\n",
      "\u001b[0;31mTypeError\u001b[0m: bad argument type for built-in operation"
     ]
    }
   ],
   "source": [
    "tmp_1 = np.float64(1)\n",
    "e = np.float64(e)\n",
    "print((tmp_1).hex())\n",
    "print((e).hex())\n",
    "print(((1 + e)).hex())\n",
    "print()\n",
    "print(floathex_to_binary(1))\n",
    "print(floathex_to_binary(e))\n",
    "print(floathex_to_binary(1 + e))"
   ]
  },
  {
   "cell_type": "code",
   "execution_count": 148,
   "id": "6d7dce08",
   "metadata": {},
   "outputs": [
    {
     "name": "stdout",
     "output_type": "stream",
     "text": [
      "1.000000000000000000000001\n",
      "1.0000000000000000000000011\n"
     ]
    }
   ],
   "source": [
    "print(floathex_to_binary(list_3))\n",
    "print(floathex_to_binary(list_4))\n",
    "# 1.000000000000000000000010\n",
    "# 1.000000000000000000000001"
   ]
  },
  {
   "cell_type": "code",
   "execution_count": 152,
   "id": "a8b85213",
   "metadata": {},
   "outputs": [
    {
     "data": {
      "text/plain": [
       "b'\\x00\\x00\\x80?'"
      ]
     },
     "execution_count": 152,
     "metadata": {},
     "output_type": "execute_result"
    }
   ],
   "source": [
    "np.float32(1).data.tobytes()"
   ]
  },
  {
   "cell_type": "code",
   "execution_count": 21,
   "id": "4794cf72",
   "metadata": {},
   "outputs": [
    {
     "data": {
      "text/plain": [
       "True"
      ]
     },
     "execution_count": 21,
     "metadata": {},
     "output_type": "execute_result"
    }
   ],
   "source": [
    "1+e/2 == 1"
   ]
  },
  {
   "cell_type": "code",
   "execution_count": 22,
   "id": "268879c0",
   "metadata": {},
   "outputs": [
    {
     "name": "stdout",
     "output_type": "stream",
     "text": [
      "Сравнение 1 и 1.0 True\n",
      "Сравнение 1 и 1.0000000000000002 False\n",
      "Сравнение 1 и 1.0000000000000004 False\n",
      "Сравнение 1.0 и 1.0000000000000002 False\n",
      "Сравнение 1.0 и 1.0000000000000004 False\n",
      "Сравнение 1.0000000000000002 и 1.0000000000000004 False\n"
     ]
    }
   ],
   "source": [
    "for i in range(len(list_)):\n",
    "    for j in range(i + 1, len(list_)):\n",
    "        print(f'Сравнение {list_[i]} и {list_[j]}', list_[i] == list_[j])"
   ]
  },
  {
   "cell_type": "code",
   "execution_count": 14,
   "id": "55fc4c0b",
   "metadata": {},
   "outputs": [
    {
     "data": {
      "text/plain": [
       "False"
      ]
     },
     "execution_count": 14,
     "metadata": {},
     "output_type": "execute_result"
    }
   ],
   "source": [
    "list_[2] == list_[3]"
   ]
  },
  {
   "cell_type": "code",
   "execution_count": 51,
   "id": "a606bcc0",
   "metadata": {},
   "outputs": [
    {
     "data": {
      "text/plain": [
       "1.0"
      ]
     },
     "execution_count": 51,
     "metadata": {},
     "output_type": "execute_result"
    }
   ],
   "source": [
    "float(list_[3])"
   ]
  },
  {
   "cell_type": "markdown",
   "id": "534cd3ac",
   "metadata": {},
   "source": [
    "#### Почему не выполняется ассоциативность? \n",
    "Из-за дискретности и округлений вычислений?"
   ]
  },
  {
   "cell_type": "code",
   "execution_count": 24,
   "id": "f225a39d",
   "metadata": {},
   "outputs": [
    {
     "name": "stdout",
     "output_type": "stream",
     "text": [
      "1.0000000000000004\n",
      "1.0000000000000002\n",
      "False\n"
     ]
    }
   ],
   "source": [
    "print(1 + e + e/2)\n",
    "print(1 + e/2 + e)\n",
    "print(1 + e + e/2 == 1 + e/2 + e)"
   ]
  },
  {
   "cell_type": "code",
   "execution_count": 31,
   "id": "a5694202",
   "metadata": {},
   "outputs": [
    {
     "data": {
      "text/plain": [
       "True"
      ]
     },
     "execution_count": 31,
     "metadata": {},
     "output_type": "execute_result"
    }
   ],
   "source": [
    "(1 + e) + e == 1 + (e + e) #не должно же работать?!"
   ]
  },
  {
   "cell_type": "code",
   "execution_count": 26,
   "id": "7b112119",
   "metadata": {
    "scrolled": true
   },
   "outputs": [
    {
     "data": {
      "text/plain": [
       "True"
      ]
     },
     "execution_count": 26,
     "metadata": {},
     "output_type": "execute_result"
    }
   ],
   "source": [
    "1 + e + e == 1 + e + e"
   ]
  },
  {
   "cell_type": "code",
   "execution_count": 33,
   "id": "df758fc2",
   "metadata": {},
   "outputs": [
    {
     "data": {
      "text/plain": [
       "False"
      ]
     },
     "execution_count": 33,
     "metadata": {},
     "output_type": "execute_result"
    }
   ],
   "source": [
    "(1 + e/2) + e/2 == 1 + (e/2 + e/2)"
   ]
  },
  {
   "cell_type": "code",
   "execution_count": 34,
   "id": "bf1894f8",
   "metadata": {},
   "outputs": [
    {
     "data": {
      "text/plain": [
       "True"
      ]
     },
     "execution_count": 34,
     "metadata": {},
     "output_type": "execute_result"
    }
   ],
   "source": [
    "(1 + e/4) + e/4 == 1 + (e/4 + e/4)"
   ]
  },
  {
   "cell_type": "code",
   "execution_count": 35,
   "id": "29a2f809",
   "metadata": {},
   "outputs": [
    {
     "data": {
      "text/plain": [
       "True"
      ]
     },
     "execution_count": 35,
     "metadata": {},
     "output_type": "execute_result"
    }
   ],
   "source": [
    "(1 + e/16) + e/16 == 1 + (e/16 + e/16)"
   ]
  },
  {
   "cell_type": "code",
   "execution_count": 41,
   "id": "74de06d4",
   "metadata": {},
   "outputs": [
    {
     "name": "stdout",
     "output_type": "stream",
     "text": [
      "power value:1, step: 1, True\n",
      "power value:2, step: 2, True\n",
      "power value:4, step: 3, True\n",
      "power value:8, step: 4, True\n",
      "power value:16, step: 5, True\n",
      "power value:32, step: 6, True\n",
      "power value:64, step: 7, True\n",
      "power value:128, step: 8, True\n",
      "power value:256, step: 9, True\n",
      "power value:512, step: 10, True\n",
      "power value:1024, step: 11, True\n",
      "power value:2048, step: 12, True\n",
      "power value:4096, step: 13, True\n",
      "power value:8192, step: 14, True\n",
      "power value:16384, step: 15, True\n",
      "power value:32768, step: 16, True\n",
      "power value:65536, step: 17, True\n",
      "power value:131072, step: 18, False\n",
      "power value:262144, step: 19, True\n",
      "power value:524288, step: 20, True\n",
      "power value:1048576, step: 21, True\n",
      "power value:2097152, step: 22, True\n",
      "power value:4194304, step: 23, True\n",
      "power value:8388608, step: 24, True\n",
      "power value:16777216, step: 25, True\n",
      "power value:33554432, step: 26, True\n",
      "power value:67108864, step: 27, True\n",
      "power value:134217728, step: 28, True\n",
      "power value:268435456, step: 29, True\n",
      "power value:536870912, step: 30, True\n"
     ]
    }
   ],
   "source": [
    "power = 1\n",
    "new_e = e*2**16\n",
    "step = 0\n",
    "while power != 2**30:\n",
    "    step += 1\n",
    "    print(f'power value:{power}, step: {step}, {(1 + new_e/power) + new_e/power == 1 + (new_e/power + new_e/power)}')\n",
    "    power *= 2"
   ]
  },
  {
   "cell_type": "code",
   "execution_count": null,
   "id": "c04fd849",
   "metadata": {},
   "outputs": [],
   "source": []
  }
 ],
 "metadata": {
  "kernelspec": {
   "display_name": "Python 3 (ipykernel)",
   "language": "python",
   "name": "python3"
  },
  "language_info": {
   "codemirror_mode": {
    "name": "ipython",
    "version": 3
   },
   "file_extension": ".py",
   "mimetype": "text/x-python",
   "name": "python",
   "nbconvert_exporter": "python",
   "pygments_lexer": "ipython3",
   "version": "3.9.7"
  }
 },
 "nbformat": 4,
 "nbformat_minor": 5
}
