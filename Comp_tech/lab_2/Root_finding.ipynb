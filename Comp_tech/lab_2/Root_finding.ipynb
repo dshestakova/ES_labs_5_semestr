{
 "cells": [
  {
   "cell_type": "markdown",
   "id": "42dbf96b",
   "metadata": {},
   "source": [
    "## Решить уравнение $\\tan x = x$"
   ]
  },
  {
   "cell_type": "code",
   "execution_count": 2,
   "id": "63a0d965",
   "metadata": {},
   "outputs": [],
   "source": [
    "import math \n",
    "import numpy as np"
   ]
  },
  {
   "cell_type": "code",
   "execution_count": 355,
   "id": "f6abde3f",
   "metadata": {},
   "outputs": [
    {
     "data": {
      "text/plain": [
       "2.9802322387695312e-08"
      ]
     },
     "execution_count": 355,
     "metadata": {},
     "output_type": "execute_result"
    }
   ],
   "source": [
    "power = 0\n",
    "e = np.float32(1.0)\n",
    "while np.float32(1)+np.float32(e) != np.float32(1):\n",
    "    machine_epsilon_last = e\n",
    "    e = np.float32(e) / np.float32(2)\n",
    "    power += 1\n",
    "e = e/2\n",
    "e"
   ]
  },
  {
   "cell_type": "markdown",
   "id": "bb36aa1f",
   "metadata": {},
   "source": [
    "### Bisection method — OK"
   ]
  },
  {
   "cell_type": "markdown",
   "id": "0f470319",
   "metadata": {},
   "source": [
    "Assomptions:\n",
    "\n",
    "\n",
    "$f$ is continuous \n",
    "    \n",
    "$f(a) * f(b) < 0 $\n",
    "    \n",
    "$f$ is monotonic "
   ]
  },
  {
   "cell_type": "code",
   "execution_count": 432,
   "id": "2d5efce4",
   "metadata": {},
   "outputs": [],
   "source": [
    "f = lambda x: (math.tan(x) - x)"
   ]
  },
  {
   "cell_type": "code",
   "execution_count": 433,
   "id": "16bfd3da",
   "metadata": {},
   "outputs": [],
   "source": [
    "def bisection(f, a, b, tol): \n",
    "    if np.sign(f(a)) == np.sign(f(b)):\n",
    "        raise Exception(\n",
    "         \"The scalars a and b do not bound a root\")\n",
    "        \n",
    "    # deviding\n",
    "    m = (a + b)/2\n",
    "    \n",
    "    if np.abs(f(m)) < tol:\n",
    "        return (f(m))\n",
    "    \n",
    "    elif np.sign(f(a)) == np.sign(f(m)):\n",
    "#         print(a, b, f(a), f(b))\n",
    "        return bisection(f, m, b, tol)\n",
    "    \n",
    "    elif np.sign(f(b)) == np.sign(f(m)):\n",
    "#         print(a, b, f(a), f(b))\n",
    "        return bisection(f, a, m, tol)"
   ]
  },
  {
   "cell_type": "code",
   "execution_count": 436,
   "id": "c9bf6ca9",
   "metadata": {
    "scrolled": true
   },
   "outputs": [
    {
     "name": "stdout",
     "output_type": "stream",
     "text": [
      "-1.462015953006962e-08\n"
     ]
    }
   ],
   "source": [
    "print(bisection(f, -1.228 , (math.pi / 2), 1e-6))"
   ]
  },
  {
   "cell_type": "markdown",
   "id": "c2dd4dbc",
   "metadata": {},
   "source": [
    "### Iterations method"
   ]
  },
  {
   "cell_type": "code",
   "execution_count": 437,
   "id": "3de3ba37",
   "metadata": {},
   "outputs": [],
   "source": [
    "g = lambda x: (math.atan(x))\n",
    "g_prime = lambda x: (1/(math.cos(x)**2))"
   ]
  },
  {
   "cell_type": "code",
   "execution_count": 452,
   "id": "9be0621c",
   "metadata": {},
   "outputs": [],
   "source": [
    "def Iter(x, tol):\n",
    "    if abs(x - g(x)) < tol:\n",
    "        return g(x)\n",
    "    else:\n",
    "        try:\n",
    "            return Iter(g(x), tol)\n",
    "        except:\n",
    "            return g(x)"
   ]
  },
  {
   "cell_type": "code",
   "execution_count": 456,
   "id": "6d0b7098",
   "metadata": {},
   "outputs": [],
   "source": [
    "def Iter(x, tol):\n",
    "#     print(x, g(x))\n",
    "    if abs(x - f(x)) < tol:\n",
    "        return f(x)\n",
    "    else:\n",
    "        return Iter(f(x), tol)\n",
    "        "
   ]
  },
  {
   "cell_type": "code",
   "execution_count": 457,
   "id": "a00c8a10",
   "metadata": {},
   "outputs": [
    {
     "data": {
      "text/plain": [
       "4.632211430296955e-23"
      ]
     },
     "execution_count": 457,
     "metadata": {},
     "output_type": "execute_result"
    }
   ],
   "source": [
    "Iter(0.25, 1e-6)"
   ]
  },
  {
   "cell_type": "markdown",
   "id": "12822586",
   "metadata": {},
   "source": [
    "Почему\n",
    "Обратную взять\n",
    "Другой корень"
   ]
  },
  {
   "cell_type": "markdown",
   "id": "6e804562",
   "metadata": {},
   "source": [
    "### Newton method — OK"
   ]
  },
  {
   "cell_type": "code",
   "execution_count": 385,
   "id": "2fe34679",
   "metadata": {},
   "outputs": [
    {
     "data": {
      "text/plain": [
       "True"
      ]
     },
     "execution_count": 385,
     "metadata": {},
     "output_type": "execute_result"
    }
   ],
   "source": [
    "f = lambda x: (math.tan(x) - x)\n",
    "f_prime = lambda x: ((1/(math.cos(x) ** 2)) - 1)\n",
    "f_prime_2 = lambda x: 2 * math.sin(x) / math.cos(x) ** 3\n",
    "\n",
    "x = 0.25\n",
    "abs(f_prime_2(x) * f(x)) < f_prime(x) ** 2"
   ]
  },
  {
   "cell_type": "code",
   "execution_count": 386,
   "id": "a421939f",
   "metadata": {},
   "outputs": [],
   "source": [
    "def newton(f, df, x, tol):\n",
    "    x0, x1 = x, x - f(x)/f_prime(x)\n",
    "    if abs(x1 - x0) < tol:\n",
    "        return x1\n",
    "    else:\n",
    "        return newton(f, df, x1, tol)"
   ]
  },
  {
   "cell_type": "code",
   "execution_count": 463,
   "id": "9de23d1b",
   "metadata": {},
   "outputs": [
    {
     "data": {
      "text/plain": [
       "1.985616202584158e-06"
      ]
     },
     "execution_count": 463,
     "metadata": {},
     "output_type": "execute_result"
    }
   ],
   "source": [
    "newton(f, f_prime, 0.25, 1e-6)"
   ]
  },
  {
   "cell_type": "markdown",
   "id": "bd540bc2",
   "metadata": {},
   "source": [
    "### Secant method — OK"
   ]
  },
  {
   "cell_type": "code",
   "execution_count": 350,
   "id": "43d9ce8b",
   "metadata": {},
   "outputs": [],
   "source": [
    "f = lambda x: (math.tan(x) - x)"
   ]
  },
  {
   "cell_type": "code",
   "execution_count": 353,
   "id": "1554c0e0",
   "metadata": {},
   "outputs": [],
   "source": [
    "def secant(x0, x1, tol):\n",
    "    if (abs(x1 - x0) < tol):\n",
    "        return x1\n",
    "    else:\n",
    "        try: \n",
    "            return secant(x1, (x1 - ((x1 - x0) * f(x1) / (f(x1) - f(x0)))), tol)\n",
    "        except:\n",
    "            return  x1"
   ]
  },
  {
   "cell_type": "code",
   "execution_count": 354,
   "id": "10825374",
   "metadata": {},
   "outputs": [
    {
     "data": {
      "text/plain": [
       "2.428576153631131e-06"
      ]
     },
     "execution_count": 354,
     "metadata": {},
     "output_type": "execute_result"
    }
   ],
   "source": [
    "secant(0.25, 0.5, 1e-6)"
   ]
  },
  {
   "cell_type": "code",
   "execution_count": null,
   "id": "dedeb789",
   "metadata": {},
   "outputs": [],
   "source": []
  }
 ],
 "metadata": {
  "kernelspec": {
   "display_name": "Python 3 (ipykernel)",
   "language": "python",
   "name": "python3"
  },
  "language_info": {
   "codemirror_mode": {
    "name": "ipython",
    "version": 3
   },
   "file_extension": ".py",
   "mimetype": "text/x-python",
   "name": "python",
   "nbconvert_exporter": "python",
   "pygments_lexer": "ipython3",
   "version": "3.9.7"
  }
 },
 "nbformat": 4,
 "nbformat_minor": 5
}
